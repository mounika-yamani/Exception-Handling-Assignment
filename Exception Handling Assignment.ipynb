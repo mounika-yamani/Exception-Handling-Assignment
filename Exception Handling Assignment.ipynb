{
 "cells": [
  {
   "cell_type": "code",
   "execution_count": 1,
   "metadata": {},
   "outputs": [
    {
     "name": "stdout",
     "output_type": "stream",
     "text": [
      "a=5\n",
      "b=0\n",
      " There is Zero Division Error\n"
     ]
    }
   ],
   "source": [
    "def division():\n",
    "    a = int(input(\"a=\"))\n",
    "    b = int(input(\"b=\"))\n",
    "    try:\n",
    "        a/b\n",
    "        print(\"a/b = %d\"%(a/b))\n",
    "    except ZeroDivisionError:\n",
    "        print(\" There is Zero Division Error\")\n",
    "division()"
   ]
  },
  {
   "cell_type": "code",
   "execution_count": 2,
   "metadata": {},
   "outputs": [
    {
     "name": "stdout",
     "output_type": "stream",
     "text": [
      "Americans play Baseball\n",
      "Americans play Cricket\n",
      "Americans watch Baseball\n",
      "Americans watch Cricket\n",
      "Indians play Baseball\n",
      "Indians play Cricket\n",
      "Indians watch Baseball\n",
      "Indians watch Cricket\n"
     ]
    }
   ],
   "source": [
    "subjects = [\"Americans\", \"Indians\"]\n",
    "verbs = [\"play\",\"watch\"]\n",
    "objects = [\"Baseball\",\"Cricket\"]\n",
    "list = [(s+\" \"+v+\" \"+ o) for s in subjects for v in verbs for o in objects]\n",
    "for i in list:\n",
    "    print(i)\n"
   ]
  }
 ],
 "metadata": {
  "kernelspec": {
   "display_name": "Python 3",
   "language": "python",
   "name": "python3"
  },
  "language_info": {
   "codemirror_mode": {
    "name": "ipython",
    "version": 3
   },
   "file_extension": ".py",
   "mimetype": "text/x-python",
   "name": "python",
   "nbconvert_exporter": "python",
   "pygments_lexer": "ipython3",
   "version": "3.8.5"
  }
 },
 "nbformat": 4,
 "nbformat_minor": 4
}
